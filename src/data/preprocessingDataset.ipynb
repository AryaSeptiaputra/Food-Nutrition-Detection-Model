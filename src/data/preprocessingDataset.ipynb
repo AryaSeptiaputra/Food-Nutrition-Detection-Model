{
 "cells": [
  {
   "cell_type": "code",
   "execution_count": 28,
   "id": "50b0dc18",
   "metadata": {},
   "outputs": [],
   "source": [
    "import pandas as pd"
   ]
  },
  {
   "cell_type": "markdown",
   "id": "4ef73c8f",
   "metadata": {},
   "source": [
    "# Merge Dataset"
   ]
  },
  {
   "cell_type": "code",
   "execution_count": 29,
   "id": "252ee41b",
   "metadata": {},
   "outputs": [],
   "source": [
    "# Load the two DataFrames\n",
    "df_nutrition = pd.read_csv(r'C:\\Intrenship\\Torhe Indonesia\\Food Nutrition Detection\\data\\external\\all_food_nutritions.csv', delimiter='|')\n",
    "df_details = pd.read_csv(r'C:\\Intrenship\\Torhe Indonesia\\Food Nutrition Detection\\data\\interim\\all_food_details_cleaned.csv', delimiter='|')\n",
    "\n",
    "# Merge the two DataFrames\n",
    "df_merged = pd.merge(df_nutrition, df_details, on='FOOD_CODE', how='inner')\n",
    "\n",
    "# Save the merged DataFrame to a new CSV file\n",
    "df_merged.to_csv(r'C:\\Intrenship\\Torhe Indonesia\\Food Nutrition Detection\\data\\interim\\merged_food_data.csv', index=False, sep='|')"
   ]
  },
  {
   "cell_type": "markdown",
   "id": "5f002c9c",
   "metadata": {},
   "source": [
    "# Cleanning Dataset"
   ]
  },
  {
   "cell_type": "code",
   "execution_count": 30,
   "id": "e763d8be",
   "metadata": {},
   "outputs": [],
   "source": [
    "# Load the dataframe\n",
    "df_details = pd.read_csv(r\"C:\\Intrenship\\Torhe Indonesia\\Food Nutrition Detection\\data\\external\\all_food_details.csv\", delimiter='|')\n",
    "\n",
    "# Drop unused columns\n",
    "df_details.drop(columns=['Unnamed: 2', 'Latin Name', 'From', 'Description'], inplace=True)\n",
    "\n",
    "# Save the cleaned dataframe to a new CSV file\n",
    "df_details.to_csv(r\"C:\\Intrenship\\Torhe Indonesia\\Food Nutrition Detection\\data\\interim\\all_food_details_cleaned.csv\", index=False, sep='|')"
   ]
  },
  {
   "cell_type": "markdown",
   "id": "813efec4",
   "metadata": {},
   "source": [
    "# Data Pivoting"
   ]
  },
  {
   "cell_type": "code",
   "execution_count": 31,
   "id": "a1abb1cf",
   "metadata": {},
   "outputs": [],
   "source": [
    "df = pd.read_csv(r'C:\\Intrenship\\Torhe Indonesia\\Food Nutrition Detection\\data\\interim\\merged_food_data.csv', delimiter='|')\n",
    "\n",
    "# Pivot the DataFrame\n",
    "df_pivot = df.pivot(index='FOOD_CODE', columns='Nutrient/Ingridient', values='Value (per 100gr)')\n",
    "\n",
    "# Drop the original columns after pivoting\n",
    "df = df.drop(columns=['Nutrient/Ingridient', 'Value (per 100gr)'])\n",
    "\n",
    "# Merge the pivoted DataFrame back to the original DataFrame\n",
    "df = pd.merge(df, df_pivot, on='FOOD_CODE', how='outer')\n",
    "\n",
    "# Fill NaN values with 0\n",
    "df.fillna(0, inplace=True)\n",
    "\n",
    "# Remove duplicate rows\n",
    "df.drop_duplicates(inplace=True)\n",
    "\n",
    "df.to_csv(r'C:\\Intrenship\\Torhe Indonesia\\Food Nutrition Detection\\data\\interim\\pivoted_food_data.csv', index=False, sep='|')"
   ]
  },
  {
   "cell_type": "markdown",
   "id": "50e6bbe6",
   "metadata": {},
   "source": [
    "# Data Normalization"
   ]
  },
  {
   "cell_type": "code",
   "execution_count": 32,
   "id": "555e9712",
   "metadata": {},
   "outputs": [],
   "source": [
    "df = pd.read_csv(r'C:\\Intrenship\\Torhe Indonesia\\Food Nutrition Detection\\data\\interim\\pivoted_food_data.csv', delimiter='|')\n",
    "\n",
    "# Clean specific columns by removing non-numeric characters\n",
    "columns_to_clean = df.columns[4:26]\n",
    "\n",
    "# Convert columns to string and remove non-numeric characters\n",
    "for col in columns_to_clean:\n",
    "    df[col] = df[col].astype(str).str.replace(r'[^\\d.]', '', regex=True)\n"
   ]
  },
  {
   "cell_type": "code",
   "execution_count": 33,
   "id": "8f481a40",
   "metadata": {},
   "outputs": [],
   "source": [
    "# Add units to the columns\n",
    "columns_g = ['Abu (ASH)', 'Air (Water)', 'Karbohidrat (CHO)', 'Lemak (Fat)', 'Protein (Protein)', 'Serat (Fibre)', ]\n",
    "columns_mg = ['Besi (Fe)', 'Fosfor (P)', 'Kalium (K)', 'Kalsium (Ca)', 'Natrium (Na)', 'Niasin (Niacin)', 'Riboflavin (Vit. B2)', 'Seng (Zn)', 'Tembaga (Cu)', 'Thiamin (Vit. B1)', 'Vitamin C (Vit. C)']\n",
    "columns_mcg = ['Beta-Karoten (Carotenes)', 'Karoten Total (Re)', 'Retinol (Vit. A)']\n",
    "\n",
    "# Append units to the columns\n",
    "for col in columns_g:\n",
    "    df[col] =df[col].astype(str) + ' g'\n",
    "for col in columns_mg:\n",
    "    df[col] = df[col].astype(str) + ' mg'\n",
    "for col in columns_mcg:\n",
    "    df[col] = df[col].astype(str) + ' mcg'"
   ]
  },
  {
   "cell_type": "code",
   "execution_count": 34,
   "id": "a1c731e1",
   "metadata": {},
   "outputs": [],
   "source": [
    "# Rename columns to lowercase and replace spaces with underscores\n",
    "df.rename(columns={\n",
    "    \"FOOD_CODE\": 'code',\n",
    "    \"Name\": 'name',\n",
    "    \"Abu (ASH)\": \"abu\",\n",
    "    \"Air (Water)\": \"air\",\n",
    "    \"Besi (Fe)\": \"besi\",\n",
    "    \"Beta-Karoten (Carotenes)\": \"beta-karoten\",\n",
    "    \"Energi (Energy)\": \"energi\",\n",
    "    \"Fosfor (P)\": \"fosfor\",\n",
    "    \"Kalium (K)\": \"kalium\",\n",
    "    \"Kalsium (Ca)\": \"kalsium\",\n",
    "    \"Karbohidrat (CHO)\": \"karbohidrat\",\n",
    "    \"Karoten Total (Re)\": \"karoten total\",\n",
    "    \"Lemak (Fat)\": \"lemak\",\n",
    "    \"Natrium (Na)\": \"natrium\",\n",
    "    \"Niasin (Niacin)\": \"niasin\",\n",
    "    \"Protein (Protein)\": \"protein\",\n",
    "    \"Retinol (Vit. A)\": \"retinol\",\n",
    "    \"Riboflavin (Vit. B2)\": \"riboflavin\",\n",
    "    \"Seng (Zn)\": \"seng\",\n",
    "    \"Serat (Fibre)\": \"serat\",\n",
    "    \"Tembaga (Cu)\": \"tembaga\",\n",
    "    \"Thiamin (Vit. B1)\": \"thiamin\",\n",
    "    \"Vitamin C (Vit. C)\": \"vitamin c\"\n",
    "}, inplace=True)\n",
    "\n",
    "df['name'] = df['name'].str.replace(',', '', regex=False)\n",
    "\n",
    "df.to_csv(r'C:\\Intrenship\\Torhe Indonesia\\Food Nutrition Detection\\data\\interim\\normalization_data.csv', index=False, sep='|')"
   ]
  },
  {
   "cell_type": "markdown",
   "id": "1141043b",
   "metadata": {},
   "source": [
    "# Structured-to-Text Conversion"
   ]
  },
  {
   "cell_type": "code",
   "execution_count": 41,
   "id": "bd391598",
   "metadata": {},
   "outputs": [],
   "source": [
    "df = pd.read_csv(r'C:\\Intrenship\\Torhe Indonesia\\Food Nutrition Detection\\data\\interim\\normalization_data.csv', delimiter='|')\n",
    "\n",
    "# Convert the 'Name' column to string\n",
    "name_nutrition = list(df.columns[4:])\n",
    "\n",
    "# Create a new 'Text' column with the desired format\n",
    "df['Text'] = df['name'] + ' memiliki kandungan zat gizi seperti '\n",
    "\n",
    "for i, col in enumerate(name_nutrition):\n",
    "    if i == len(name_nutrition) - 1:\n",
    "        separator = '. '\n",
    "    elif i == len(name_nutrition) - 2:\n",
    "        separator = ' dan '\n",
    "    else:\n",
    "        separator = ', '\n",
    "    df['Text'] += df[col].astype(str) + f' zat {col}' + separator\n",
    "\n",
    "# Remove unused columns\n",
    "df = df[['code', 'name', 'Text']]\n",
    "\n",
    "df.to_csv(r'C:\\Intrenship\\Torhe Indonesia\\Food Nutrition Detection\\data\\processed\\Food_Dataset.csv', index=False, sep='|')"
   ]
  }
 ],
 "metadata": {
  "kernelspec": {
   "display_name": ".venv",
   "language": "python",
   "name": "python3"
  },
  "language_info": {
   "codemirror_mode": {
    "name": "ipython",
    "version": 3
   },
   "file_extension": ".py",
   "mimetype": "text/x-python",
   "name": "python",
   "nbconvert_exporter": "python",
   "pygments_lexer": "ipython3",
   "version": "3.10.6"
  }
 },
 "nbformat": 4,
 "nbformat_minor": 5
}
